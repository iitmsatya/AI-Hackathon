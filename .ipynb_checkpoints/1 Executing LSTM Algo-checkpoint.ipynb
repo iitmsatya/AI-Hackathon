{
 "cells": [
  {
   "cell_type": "code",
   "execution_count": 3,
   "id": "7b20a13f",
   "metadata": {},
   "outputs": [],
   "source": [
    "import pandas as pd\n",
    "import numpy as np\n",
    "%matplotlib inline\n",
    "import matplotlib. pyplot as plt\n",
    "import matplotlib\n",
    "import pickle\n",
    "import joblib\n",
    "from joblib import Parallel, delayed\n",
    "import tensorflow\n",
    "from tensorflow import keras\n",
    "from sklearn.preprocessing import MinMaxScaler\n",
    "from keras.layers import LSTM, Dense, Dropout\n",
    "from sklearn.model_selection import TimeSeriesSplit\n",
    "from sklearn.metrics import mean_squared_error, r2_score\n",
    "import matplotlib. dates as mandates\n",
    "from sklearn.preprocessing import MinMaxScaler\n",
    "from sklearn.metrics import confusion_matrix\n",
    "from sklearn.metrics import classification_report\n",
    "from sklearn import linear_model\n",
    "from keras.models import Sequential\n",
    "from keras.layers import Dense\n",
    "import keras.backend as K\n",
    "from keras.callbacks import EarlyStopping\n",
    "from keras.optimizers import Adam\n",
    "from keras.models import load_model\n",
    "from keras.layers import LSTM\n",
    "from keras.utils.vis_utils import plot_model"
   ]
  },
  {
   "cell_type": "code",
   "execution_count": 4,
   "id": "42ddd6a4",
   "metadata": {},
   "outputs": [
    {
     "data": {
      "text/html": [
       "<div>\n",
       "<style scoped>\n",
       "    .dataframe tbody tr th:only-of-type {\n",
       "        vertical-align: middle;\n",
       "    }\n",
       "\n",
       "    .dataframe tbody tr th {\n",
       "        vertical-align: top;\n",
       "    }\n",
       "\n",
       "    .dataframe thead th {\n",
       "        text-align: right;\n",
       "    }\n",
       "</style>\n",
       "<table border=\"1\" class=\"dataframe\">\n",
       "  <thead>\n",
       "    <tr style=\"text-align: right;\">\n",
       "      <th></th>\n",
       "      <th>Open</th>\n",
       "      <th>High</th>\n",
       "      <th>Low</th>\n",
       "      <th>Close</th>\n",
       "      <th>AdjClose</th>\n",
       "      <th>Volume</th>\n",
       "    </tr>\n",
       "    <tr>\n",
       "      <th>Date</th>\n",
       "      <th></th>\n",
       "      <th></th>\n",
       "      <th></th>\n",
       "      <th></th>\n",
       "      <th></th>\n",
       "      <th></th>\n",
       "    </tr>\n",
       "  </thead>\n",
       "  <tbody>\n",
       "    <tr>\n",
       "      <th>1998-01-02</th>\n",
       "      <td>0</td>\n",
       "      <td>4.32812</td>\n",
       "      <td>4.34375</td>\n",
       "      <td>4.06250</td>\n",
       "      <td>4.14437</td>\n",
       "      <td>17153600</td>\n",
       "    </tr>\n",
       "    <tr>\n",
       "      <th>1998-01-05</th>\n",
       "      <td>0</td>\n",
       "      <td>4.02375</td>\n",
       "      <td>4.08625</td>\n",
       "      <td>3.91438</td>\n",
       "      <td>3.92563</td>\n",
       "      <td>25585600</td>\n",
       "    </tr>\n",
       "    <tr>\n",
       "      <th>1998-01-06</th>\n",
       "      <td>0</td>\n",
       "      <td>3.85938</td>\n",
       "      <td>4.07062</td>\n",
       "      <td>3.82812</td>\n",
       "      <td>3.99250</td>\n",
       "      <td>27243200</td>\n",
       "    </tr>\n",
       "    <tr>\n",
       "      <th>1998-01-07</th>\n",
       "      <td>0</td>\n",
       "      <td>3.92188</td>\n",
       "      <td>4.05500</td>\n",
       "      <td>3.91438</td>\n",
       "      <td>3.98813</td>\n",
       "      <td>15307200</td>\n",
       "    </tr>\n",
       "    <tr>\n",
       "      <th>1998-01-08</th>\n",
       "      <td>0</td>\n",
       "      <td>4.00000</td>\n",
       "      <td>4.12313</td>\n",
       "      <td>3.92188</td>\n",
       "      <td>4.01562</td>\n",
       "      <td>21256000</td>\n",
       "    </tr>\n",
       "  </tbody>\n",
       "</table>\n",
       "</div>"
      ],
      "text/plain": [
       "            Open     High      Low    Close  AdjClose    Volume\n",
       "Date                                                           \n",
       "1998-01-02     0  4.32812  4.34375  4.06250   4.14437  17153600\n",
       "1998-01-05     0  4.02375  4.08625  3.91438   3.92563  25585600\n",
       "1998-01-06     0  3.85938  4.07062  3.82812   3.99250  27243200\n",
       "1998-01-07     0  3.92188  4.05500  3.91438   3.98813  15307200\n",
       "1998-01-08     0  4.00000  4.12313  3.92188   4.01562  21256000"
      ]
     },
     "execution_count": 4,
     "metadata": {},
     "output_type": "execute_result"
    }
   ],
   "source": [
    "#Get the Dataset\n",
    "df=pd.read_csv('table_yhoo.csv',na_values=['null'],index_col='Date',parse_dates=True,infer_datetime_format=True)\n",
    "df.head()"
   ]
  },
  {
   "cell_type": "code",
   "execution_count": 5,
   "id": "7b90331d",
   "metadata": {},
   "outputs": [
    {
     "name": "stdout",
     "output_type": "stream",
     "text": [
      "Dataframe Shape:  (3926, 6)\n",
      "Null Value Present: False\n"
     ]
    }
   ],
   "source": [
    "#Print the shape of Dataframe  and Check for Null Values\n",
    "print(\"Dataframe Shape: \", df.shape)\n",
    "print(\"Null Value Present:\", df.isnull().values.any())"
   ]
  },
  {
   "cell_type": "code",
   "execution_count": 6,
   "id": "e9e2d445",
   "metadata": {},
   "outputs": [],
   "source": [
    "#Set Target Variable\n",
    "output_var = pd.DataFrame(df['AdjClose'])\n",
    "#Selecting the Features\n",
    "features = ['High', 'Low', 'Close', 'Volume']"
   ]
  },
  {
   "cell_type": "code",
   "execution_count": 7,
   "id": "23d4246f",
   "metadata": {},
   "outputs": [
    {
     "data": {
      "text/html": [
       "<div>\n",
       "<style scoped>\n",
       "    .dataframe tbody tr th:only-of-type {\n",
       "        vertical-align: middle;\n",
       "    }\n",
       "\n",
       "    .dataframe tbody tr th {\n",
       "        vertical-align: top;\n",
       "    }\n",
       "\n",
       "    .dataframe thead th {\n",
       "        text-align: right;\n",
       "    }\n",
       "</style>\n",
       "<table border=\"1\" class=\"dataframe\">\n",
       "  <thead>\n",
       "    <tr style=\"text-align: right;\">\n",
       "      <th></th>\n",
       "      <th>High</th>\n",
       "      <th>Low</th>\n",
       "      <th>Close</th>\n",
       "      <th>Volume</th>\n",
       "    </tr>\n",
       "    <tr>\n",
       "      <th>Date</th>\n",
       "      <th></th>\n",
       "      <th></th>\n",
       "      <th></th>\n",
       "      <th></th>\n",
       "    </tr>\n",
       "  </thead>\n",
       "  <tbody>\n",
       "    <tr>\n",
       "      <th>1998-01-02</th>\n",
       "      <td>0.006250</td>\n",
       "      <td>0.004572</td>\n",
       "      <td>0.004294</td>\n",
       "      <td>0.043503</td>\n",
       "    </tr>\n",
       "    <tr>\n",
       "      <th>1998-01-05</th>\n",
       "      <td>0.003544</td>\n",
       "      <td>0.002449</td>\n",
       "      <td>0.002913</td>\n",
       "      <td>0.068790</td>\n",
       "    </tr>\n",
       "    <tr>\n",
       "      <th>1998-01-06</th>\n",
       "      <td>0.002083</td>\n",
       "      <td>0.002320</td>\n",
       "      <td>0.002109</td>\n",
       "      <td>0.073761</td>\n",
       "    </tr>\n",
       "    <tr>\n",
       "      <th>1998-01-07</th>\n",
       "      <td>0.002639</td>\n",
       "      <td>0.002191</td>\n",
       "      <td>0.002913</td>\n",
       "      <td>0.037966</td>\n",
       "    </tr>\n",
       "    <tr>\n",
       "      <th>1998-01-08</th>\n",
       "      <td>0.003333</td>\n",
       "      <td>0.002753</td>\n",
       "      <td>0.002983</td>\n",
       "      <td>0.055806</td>\n",
       "    </tr>\n",
       "  </tbody>\n",
       "</table>\n",
       "</div>"
      ],
      "text/plain": [
       "                High       Low     Close    Volume\n",
       "Date                                              \n",
       "1998-01-02  0.006250  0.004572  0.004294  0.043503\n",
       "1998-01-05  0.003544  0.002449  0.002913  0.068790\n",
       "1998-01-06  0.002083  0.002320  0.002109  0.073761\n",
       "1998-01-07  0.002639  0.002191  0.002913  0.037966\n",
       "1998-01-08  0.003333  0.002753  0.002983  0.055806"
      ]
     },
     "execution_count": 7,
     "metadata": {},
     "output_type": "execute_result"
    }
   ],
   "source": [
    "#Scaling to decrease the computational cost of the data\n",
    "scaler = MinMaxScaler()\n",
    "feature_transform = scaler.fit_transform(df[features])\n",
    "feature_transform= pd.DataFrame(columns=features, data=feature_transform, index=df.index)\n",
    "feature_transform.head()"
   ]
  },
  {
   "cell_type": "code",
   "execution_count": 8,
   "id": "65b3c29a",
   "metadata": {},
   "outputs": [
    {
     "data": {
      "text/plain": [
       "(3926, 4)"
      ]
     },
     "execution_count": 8,
     "metadata": {},
     "output_type": "execute_result"
    }
   ],
   "source": [
    "feature_transform.shape"
   ]
  },
  {
   "cell_type": "code",
   "execution_count": 9,
   "id": "72b04116",
   "metadata": {},
   "outputs": [],
   "source": [
    "#Splitting to 90% Training set and 10% Test set\n",
    "timesplit= TimeSeriesSplit(n_splits=10)\n",
    "for train_index, test_index in timesplit.split(feature_transform):\n",
    "        x_train, x_test = feature_transform[:len(train_index)], feature_transform[len(train_index): (len(train_index)+len(test_index))]\n",
    "        y_train, y_test = output_var[:len(train_index)].values.ravel(), output_var[len(train_index): (len(train_index)+len(test_index))].values.ravel()"
   ]
  },
  {
   "cell_type": "code",
   "execution_count": 10,
   "id": "3d3d333d",
   "metadata": {},
   "outputs": [
    {
     "data": {
      "text/plain": [
       "(3570, 4)"
      ]
     },
     "execution_count": 10,
     "metadata": {},
     "output_type": "execute_result"
    }
   ],
   "source": [
    "x_train.shape"
   ]
  },
  {
   "cell_type": "code",
   "execution_count": 11,
   "id": "d5921be7",
   "metadata": {},
   "outputs": [],
   "source": [
    "#Process the data for LSTM\n",
    "trainX =np.array(x_train)\n",
    "testX =np.array(x_test)\n",
    "x_train = trainX.reshape(x_train.shape[0], 1, x_train.shape[1])\n",
    "x_test = testX.reshape(x_test.shape[0], 1, x_test.shape[1])"
   ]
  },
  {
   "cell_type": "code",
   "execution_count": 12,
   "id": "1cb56661",
   "metadata": {},
   "outputs": [
    {
     "name": "stderr",
     "output_type": "stream",
     "text": [
      "2023-07-10 12:37:38.962384: I tensorflow/core/platform/cpu_feature_guard.cc:193] This TensorFlow binary is optimized with oneAPI Deep Neural Network Library (oneDNN) to use the following CPU instructions in performance-critical operations:  SSE4.1 SSE4.2 AVX AVX2 AVX512F AVX512_VNNI FMA\n",
      "To enable them in other operations, rebuild TensorFlow with the appropriate compiler flags.\n"
     ]
    },
    {
     "name": "stdout",
     "output_type": "stream",
     "text": [
      "You must install pydot (`pip install pydot`) and install graphviz (see instructions at https://graphviz.gitlab.io/download/) for plot_model to work.\n"
     ]
    }
   ],
   "source": [
    "#Building the LSTM Model\n",
    "lstm = Sequential()\n",
    "lstm.add(LSTM(32, input_shape=(1, trainX.shape[1]), activation='relu', return_sequences=False))\n",
    "lstm.add(Dense(1))\n",
    "lstm.compile(loss='mean_squared_error', optimizer='adam')\n",
    "plot_model(lstm, show_shapes=True, show_layer_names=True)"
   ]
  },
  {
   "cell_type": "code",
   "execution_count": null,
   "id": "5cc5721b",
   "metadata": {},
   "outputs": [
    {
     "name": "stdout",
     "output_type": "stream",
     "text": [
      "Epoch 1/100\n",
      "447/447 [==============================] - 4s 3ms/step - loss: 821.1531\n",
      "Epoch 2/100\n",
      "447/447 [==============================] - 2s 3ms/step - loss: 565.5377\n",
      "Epoch 3/100\n",
      "447/447 [==============================] - 1s 3ms/step - loss: 250.8810\n",
      "Epoch 4/100\n",
      "447/447 [==============================] - 1s 3ms/step - loss: 120.0596\n",
      "Epoch 5/100\n",
      "447/447 [==============================] - 1s 3ms/step - loss: 84.9974\n",
      "Epoch 6/100\n",
      "447/447 [==============================] - 1s 3ms/step - loss: 67.3251\n",
      "Epoch 7/100\n",
      "447/447 [==============================] - 1s 3ms/step - loss: 52.8190\n",
      "Epoch 8/100\n",
      "447/447 [==============================] - 1s 3ms/step - loss: 39.9504\n",
      "Epoch 9/100\n",
      "447/447 [==============================] - 1s 3ms/step - loss: 28.8047\n",
      "Epoch 10/100\n",
      "447/447 [==============================] - 1s 3ms/step - loss: 19.6447\n",
      "Epoch 11/100\n",
      "447/447 [==============================] - 1s 3ms/step - loss: 12.6348\n",
      "Epoch 12/100\n",
      "447/447 [==============================] - 1s 3ms/step - loss: 7.7478\n",
      "Epoch 13/100\n",
      "447/447 [==============================] - 1s 3ms/step - loss: 4.7267\n",
      "Epoch 14/100\n",
      "447/447 [==============================] - 1s 3ms/step - loss: 3.1112\n",
      "Epoch 15/100\n",
      "447/447 [==============================] - 1s 3ms/step - loss: 2.3571\n",
      "Epoch 16/100\n",
      "447/447 [==============================] - 1s 3ms/step - loss: 2.0097\n",
      "Epoch 17/100\n",
      "447/447 [==============================] - 1s 3ms/step - loss: 1.8092\n",
      "Epoch 18/100\n",
      "447/447 [==============================] - 1s 3ms/step - loss: 1.6591\n",
      "Epoch 19/100\n",
      "447/447 [==============================] - 1s 3ms/step - loss: 1.5368\n",
      "Epoch 20/100\n",
      "447/447 [==============================] - 1s 3ms/step - loss: 1.4391\n",
      "Epoch 21/100\n",
      "447/447 [==============================] - 2s 3ms/step - loss: 1.3644\n",
      "Epoch 22/100\n",
      "447/447 [==============================] - 1s 3ms/step - loss: 1.3106\n",
      "Epoch 23/100\n",
      "447/447 [==============================] - 1s 3ms/step - loss: 1.2747\n",
      "Epoch 24/100\n",
      "447/447 [==============================] - 1s 3ms/step - loss: 1.2529\n",
      "Epoch 25/100\n",
      "447/447 [==============================] - 1s 3ms/step - loss: 1.2408\n",
      "Epoch 26/100\n",
      "447/447 [==============================] - 1s 3ms/step - loss: 1.2339\n",
      "Epoch 27/100\n",
      "447/447 [==============================] - 1s 3ms/step - loss: 1.2285\n",
      "Epoch 28/100\n",
      "447/447 [==============================] - 1s 3ms/step - loss: 1.2221\n",
      "Epoch 29/100\n",
      "447/447 [==============================] - 1s 3ms/step - loss: 1.2139\n",
      "Epoch 30/100\n",
      "447/447 [==============================] - 1s 3ms/step - loss: 1.2042\n",
      "Epoch 31/100\n",
      "447/447 [==============================] - 1s 3ms/step - loss: 1.1936\n",
      "Epoch 32/100\n",
      "447/447 [==============================] - 1s 3ms/step - loss: 1.1825\n",
      "Epoch 33/100\n",
      "447/447 [==============================] - 1s 3ms/step - loss: 1.1713\n",
      "Epoch 34/100\n",
      "447/447 [==============================] - 1s 3ms/step - loss: 1.1600\n",
      "Epoch 35/100\n",
      "447/447 [==============================] - 1s 3ms/step - loss: 1.1485\n",
      "Epoch 36/100\n",
      "447/447 [==============================] - 1s 3ms/step - loss: 1.1370\n",
      "Epoch 37/100\n",
      "447/447 [==============================] - 1s 3ms/step - loss: 1.1252\n",
      "Epoch 38/100\n",
      "447/447 [==============================] - 1s 3ms/step - loss: 1.1132\n",
      "Epoch 39/100\n",
      "447/447 [==============================] - 1s 3ms/step - loss: 1.1010\n",
      "Epoch 40/100\n",
      "447/447 [==============================] - 1s 3ms/step - loss: 1.0885\n",
      "Epoch 41/100\n",
      "447/447 [==============================] - 1s 3ms/step - loss: 1.0758\n",
      "Epoch 42/100\n",
      "447/447 [==============================] - 1s 3ms/step - loss: 1.0628\n",
      "Epoch 43/100\n",
      "447/447 [==============================] - 1s 3ms/step - loss: 1.0495\n",
      "Epoch 44/100\n",
      "447/447 [==============================] - 1s 3ms/step - loss: 1.0359\n",
      "Epoch 45/100\n",
      "447/447 [==============================] - 1s 3ms/step - loss: 1.0221\n",
      "Epoch 46/100\n",
      "447/447 [==============================] - 1s 3ms/step - loss: 1.0080\n",
      "Epoch 47/100\n",
      "447/447 [==============================] - 1s 3ms/step - loss: 0.9937\n",
      "Epoch 48/100\n",
      "447/447 [==============================] - 1s 3ms/step - loss: 0.9793\n",
      "Epoch 49/100\n",
      "447/447 [==============================] - 1s 3ms/step - loss: 0.9647\n",
      "Epoch 50/100\n",
      "447/447 [==============================] - 1s 3ms/step - loss: 0.9499\n",
      "Epoch 51/100\n",
      "345/447 [======================>.......] - ETA: 0s - loss: 1.1966"
     ]
    }
   ],
   "source": [
    "#Model Training\n",
    "history = lstm.fit(x_train, y_train, epochs=100, batch_size=8, verbose=1, shuffle=False)"
   ]
  },
  {
   "cell_type": "code",
   "execution_count": null,
   "id": "8c030671",
   "metadata": {},
   "outputs": [],
   "source": [
    "# Save the model as a pickle in a file\n",
    "joblib.dump(lstm, 'trained_model.pkl')\n",
    "  \n",
    "# Load the model from the file\n",
    "lstm_from_joblib = joblib.load('trained_model.pkl')"
   ]
  },
  {
   "cell_type": "code",
   "execution_count": null,
   "id": "40e7bc69",
   "metadata": {},
   "outputs": [],
   "source": [
    "#LSTM Prediction\n",
    "#y_pred= lstm.predict(x_test)\n",
    "\n",
    "  \n",
    "# Use the loaded model to make predictions\n",
    "y_pred = lstm_from_joblib.predict(x_test)"
   ]
  },
  {
   "cell_type": "code",
   "execution_count": null,
   "id": "54b15d35",
   "metadata": {},
   "outputs": [],
   "source": [
    "#Predicted vs True Adj Close Value – LSTM\n",
    "plt.plot(y_test, label='True Value')\n",
    "plt.plot(y_pred, label='LSTM Value')\n",
    "plt.title(\"Prediction by LSTM\")\n",
    "plt.xlabel('Time Scale')\n",
    "plt.ylabel('Scaled USD')\n",
    "plt.legend()\n",
    "plt.show()"
   ]
  },
  {
   "cell_type": "code",
   "execution_count": null,
   "id": "51e63435",
   "metadata": {},
   "outputs": [],
   "source": [
    "# check results\n",
    "\n",
    "\n",
    "cutoff = 0.6                              # decide on a cutoff limit\n",
    "y_pred_classes = np.zeros_like(y_pred)    # initialise a matrix full with zeros\n",
    "y_pred_classes[y_pred > cutoff] = 1       # add a 1 if the cutoff was breached\n",
    "\n",
    "y_test_classes = np.zeros_like(y_pred)\n",
    "y_test_classes[y_test > cutoff] = 1\n",
    "\n",
    "print(confusion_matrix(y_test_classes, y_pred_classes))\n",
    "print(classification_report(y_test_classes, y_pred_classes)) \n",
    "\n",
    "# print(confusion_matrix(y_test, y_pred))\n",
    "# print(classification_report(y_test, y_pred)) "
   ]
  },
  {
   "cell_type": "code",
   "execution_count": null,
   "id": "d5d3bba2",
   "metadata": {},
   "outputs": [],
   "source": [
    "np.savetxt('test.csv',y_test,delimiter=',')\n",
    "#y_test.to_csv(\"some_file.csv\")"
   ]
  }
 ],
 "metadata": {
  "kernelspec": {
   "display_name": "Python 3 (ipykernel)",
   "language": "python",
   "name": "python3"
  },
  "language_info": {
   "codemirror_mode": {
    "name": "ipython",
    "version": 3
   },
   "file_extension": ".py",
   "mimetype": "text/x-python",
   "name": "python",
   "nbconvert_exporter": "python",
   "pygments_lexer": "ipython3",
   "version": "3.10.9"
  }
 },
 "nbformat": 4,
 "nbformat_minor": 5
}
